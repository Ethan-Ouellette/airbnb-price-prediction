{
 "cells": [
  {
   "cell_type": "code",
   "execution_count": 1,
   "id": "c511daa2-b9c7-4803-b999-2e8b69afb545",
   "metadata": {},
   "outputs": [],
   "source": [
    "import pandas as pd\n",
    "import numpy as np\n",
    "import matplotlib.pyplot as plt\n",
    "from scipy.optimize import minimize"
   ]
  },
  {
   "cell_type": "code",
   "execution_count": 2,
   "id": "ebdf1583-463f-45ab-98d8-912a6b5295e5",
   "metadata": {},
   "outputs": [],
   "source": [
    "from sklearn.model_selection import train_test_split, cross_val_score, GridSearchCV, KFold, RandomizedSearchCV\n",
    "from sklearn.metrics import f1_score, accuracy_score, roc_auc_score, make_scorer, mean_squared_error, root_mean_squared_error"
   ]
  },
  {
   "cell_type": "code",
   "execution_count": 3,
   "id": "1a905712-dc25-455c-b9b3-a0a8501ceb48",
   "metadata": {},
   "outputs": [],
   "source": [
    "from sklearn.ensemble import RandomForestRegressor"
   ]
  },
  {
   "cell_type": "code",
   "execution_count": 14,
   "id": "177943f9-815b-4908-9ccc-5753f86d3ba1",
   "metadata": {},
   "outputs": [],
   "source": [
    "# Custom RMSE scoring with rounding\n",
    "def rounded_rmse(y_true, y_pred):\n",
    "    # Round predictions to nearest integer\n",
    "    y_pred_rounded = np.round(y_pred)\n",
    "    return np.sqrt(mean_squared_error(y_true, y_pred_rounded))\n",
    "\n",
    "# Custom scorer for GridSearchCV\n",
    "rmse_scorer = make_scorer(rounded_rmse, greater_is_better=False)"
   ]
  },
  {
   "cell_type": "code",
   "execution_count": 43,
   "id": "d82cebdb-a8d0-4339-a32c-d11538f27d20",
   "metadata": {},
   "outputs": [],
   "source": [
    "df = pd.read_csv(\"datas/df_1124v4_train.csv\")\n",
    "df_submission = pd.read_csv(\"datas/df_1124v4_test.csv\")"
   ]
  },
  {
   "cell_type": "code",
   "execution_count": 44,
   "id": "0d7f8180-2c4c-461f-beb4-e4b8357776f5",
   "metadata": {},
   "outputs": [],
   "source": [
    "X, y = df.drop(columns=[\"price\"]), df[\"price\"]\n",
    "X_train, X_test, y_train, y_test = train_test_split(\n",
    "    X, y, test_size=0.2, random_state=23\n",
    ")"
   ]
  },
  {
   "cell_type": "code",
   "execution_count": 32,
   "id": "c6a6730e-3ece-4aeb-aec4-6a2369cb2311",
   "metadata": {
    "scrolled": true
   },
   "outputs": [
    {
     "name": "stdout",
     "output_type": "stream",
     "text": [
      "Fitting 5 folds for each of 20 candidates, totalling 100 fits\n",
      "[CV] END bootstrap=False, max_depth=20, max_features=log2, min_samples_leaf=2, min_samples_split=10, n_estimators=900; total time=  13.4s\n",
      "[CV] END bootstrap=False, max_depth=20, max_features=log2, min_samples_leaf=2, min_samples_split=10, n_estimators=900; total time=  13.2s\n",
      "[CV] END bootstrap=False, max_depth=30, max_features=sqrt, min_samples_leaf=4, min_samples_split=10, n_estimators=700; total time=  25.4s\n",
      "[CV] END bootstrap=False, max_depth=None, max_features=sqrt, min_samples_leaf=2, min_samples_split=2, n_estimators=900; total time=  40.2s\n"
     ]
    },
    {
     "name": "stderr",
     "output_type": "stream",
     "text": [
      "/Users/ethan/miniconda3/envs/cs671/lib/python3.10/site-packages/joblib/externals/loky/process_executor.py:752: UserWarning: A worker stopped while some jobs were given to the executor. This can be caused by a too short worker timeout or by a memory leak.\n",
      "  warnings.warn(\n"
     ]
    },
    {
     "name": "stdout",
     "output_type": "stream",
     "text": [
      "Best RF parameters: {'n_estimators': 700, 'min_samples_split': 2, 'min_samples_leaf': 2, 'max_features': None, 'max_depth': 20, 'bootstrap': True}\n",
      "[CV] END bootstrap=False, max_depth=None, max_features=sqrt, min_samples_leaf=2, min_samples_split=2, n_estimators=900; total time=  39.8s\n",
      "[CV] END bootstrap=False, max_depth=20, max_features=log2, min_samples_leaf=4, min_samples_split=2, n_estimators=500; total time=   6.3s\n",
      "[CV] END bootstrap=False, max_depth=20, max_features=None, min_samples_leaf=1, min_samples_split=15, n_estimators=900; total time= 7.0min\n",
      "[CV] END bootstrap=True, max_depth=20, max_features=None, min_samples_leaf=2, min_samples_split=2, n_estimators=700; total time= 3.6min\n",
      "[CV] END bootstrap=True, max_depth=20, max_features=None, min_samples_leaf=1, min_samples_split=15, n_estimators=700; total time= 3.6min\n",
      "[CV] END bootstrap=False, max_depth=20, max_features=None, min_samples_leaf=4, min_samples_split=2, n_estimators=900; total time= 6.8min\n",
      "[CV] END bootstrap=True, max_depth=30, max_features=sqrt, min_samples_leaf=2, min_samples_split=5, n_estimators=900; total time=  25.1s\n",
      "[CV] END bootstrap=True, max_depth=30, max_features=sqrt, min_samples_leaf=2, min_samples_split=5, n_estimators=900; total time=  24.6s\n",
      "[CV] END bootstrap=True, max_depth=30, max_features=sqrt, min_samples_leaf=2, min_samples_split=5, n_estimators=900; total time=  24.8s\n",
      "[CV] END bootstrap=False, max_depth=20, max_features=log2, min_samples_leaf=2, min_samples_split=10, n_estimators=900; total time=  13.5s\n",
      "[CV] END bootstrap=False, max_depth=30, max_features=sqrt, min_samples_leaf=4, min_samples_split=10, n_estimators=700; total time=  24.2s\n",
      "[CV] END bootstrap=False, max_depth=30, max_features=sqrt, min_samples_leaf=4, min_samples_split=10, n_estimators=700; total time=  25.4s\n",
      "[CV] END bootstrap=False, max_depth=None, max_features=sqrt, min_samples_leaf=2, min_samples_split=2, n_estimators=900; total time=  39.9s\n",
      "[CV] END bootstrap=False, max_depth=None, max_features=sqrt, min_samples_leaf=2, min_samples_split=2, n_estimators=900; total time=  39.8s\n",
      "[CV] END bootstrap=False, max_depth=20, max_features=None, min_samples_leaf=1, min_samples_split=15, n_estimators=900; total time= 6.9min\n",
      "[CV] END bootstrap=True, max_depth=20, max_features=None, min_samples_leaf=2, min_samples_split=2, n_estimators=700; total time= 3.6min\n",
      "[CV] END bootstrap=True, max_depth=10, max_features=sqrt, min_samples_leaf=4, min_samples_split=2, n_estimators=700; total time=   9.3s\n",
      "[CV] END bootstrap=True, max_depth=10, max_features=sqrt, min_samples_leaf=4, min_samples_split=2, n_estimators=700; total time=   9.7s\n",
      "[CV] END bootstrap=True, max_depth=10, max_features=sqrt, min_samples_leaf=4, min_samples_split=2, n_estimators=700; total time=   9.4s\n",
      "[CV] END bootstrap=True, max_depth=20, max_features=None, min_samples_leaf=1, min_samples_split=10, n_estimators=500; total time= 2.5min\n",
      "[CV] END bootstrap=True, max_depth=20, max_features=None, min_samples_leaf=1, min_samples_split=10, n_estimators=500; total time= 2.6min\n",
      "[CV] END bootstrap=False, max_depth=30, max_features=None, min_samples_leaf=8, min_samples_split=10, n_estimators=500; total time= 3.4min\n",
      "[CV] END bootstrap=False, max_depth=10, max_features=None, min_samples_leaf=2, min_samples_split=15, n_estimators=500; total time= 2.8min\n",
      "[CV] END bootstrap=True, max_depth=20, max_features=None, min_samples_leaf=2, min_samples_split=15, n_estimators=900; total time= 4.4min\n",
      "[CV] END bootstrap=True, max_depth=20, max_features=None, min_samples_leaf=8, min_samples_split=10, n_estimators=700; total time= 3.0min\n",
      "[CV] END bootstrap=True, max_depth=20, max_features=None, min_samples_leaf=8, min_samples_split=10, n_estimators=700; total time= 3.0min\n",
      "[CV] END bootstrap=True, max_depth=20, max_features=None, min_samples_leaf=2, min_samples_split=2, n_estimators=700; total time= 3.6min\n",
      "[CV] END bootstrap=True, max_depth=20, max_features=None, min_samples_leaf=1, min_samples_split=10, n_estimators=500; total time= 2.6min\n",
      "[CV] END bootstrap=True, max_depth=10, max_features=sqrt, min_samples_leaf=2, min_samples_split=10, n_estimators=500; total time=   6.6s\n",
      "[CV] END bootstrap=True, max_depth=10, max_features=sqrt, min_samples_leaf=2, min_samples_split=10, n_estimators=500; total time=   6.7s\n",
      "[CV] END bootstrap=True, max_depth=10, max_features=sqrt, min_samples_leaf=2, min_samples_split=10, n_estimators=500; total time=   6.6s\n",
      "[CV] END bootstrap=True, max_depth=10, max_features=sqrt, min_samples_leaf=2, min_samples_split=10, n_estimators=500; total time=   6.6s\n",
      "[CV] END bootstrap=True, max_depth=10, max_features=sqrt, min_samples_leaf=2, min_samples_split=10, n_estimators=500; total time=   6.6s\n",
      "[CV] END bootstrap=False, max_depth=30, max_features=None, min_samples_leaf=8, min_samples_split=10, n_estimators=500; total time= 3.4min\n",
      "[CV] END bootstrap=False, max_depth=30, max_features=None, min_samples_leaf=8, min_samples_split=10, n_estimators=500; total time= 3.5min\n",
      "[CV] END bootstrap=True, max_depth=30, max_features=sqrt, min_samples_leaf=2, min_samples_split=5, n_estimators=900; total time=  24.9s\n",
      "[CV] END bootstrap=True, max_depth=30, max_features=sqrt, min_samples_leaf=2, min_samples_split=5, n_estimators=900; total time=  22.2s\n",
      "[CV] END bootstrap=False, max_depth=20, max_features=log2, min_samples_leaf=2, min_samples_split=10, n_estimators=900; total time=  13.2s\n",
      "[CV] END bootstrap=False, max_depth=20, max_features=log2, min_samples_leaf=2, min_samples_split=10, n_estimators=900; total time=  13.1s\n",
      "[CV] END bootstrap=False, max_depth=30, max_features=sqrt, min_samples_leaf=4, min_samples_split=10, n_estimators=700; total time=  25.2s\n",
      "[CV] END bootstrap=False, max_depth=30, max_features=sqrt, min_samples_leaf=4, min_samples_split=10, n_estimators=700; total time=  24.6s\n",
      "[CV] END bootstrap=False, max_depth=None, max_features=sqrt, min_samples_leaf=2, min_samples_split=2, n_estimators=900; total time=  40.0s\n",
      "[CV] END bootstrap=False, max_depth=20, max_features=log2, min_samples_leaf=4, min_samples_split=2, n_estimators=500; total time=   6.3s\n",
      "[CV] END bootstrap=False, max_depth=20, max_features=log2, min_samples_leaf=4, min_samples_split=2, n_estimators=500; total time=   6.3s\n",
      "[CV] END bootstrap=False, max_depth=20, max_features=log2, min_samples_leaf=4, min_samples_split=2, n_estimators=500; total time=   6.3s\n",
      "[CV] END bootstrap=False, max_depth=20, max_features=log2, min_samples_leaf=4, min_samples_split=2, n_estimators=500; total time=   6.2s\n",
      "[CV] END bootstrap=False, max_depth=20, max_features=None, min_samples_leaf=1, min_samples_split=15, n_estimators=900; total time= 7.0min\n",
      "[CV] END bootstrap=True, max_depth=20, max_features=None, min_samples_leaf=2, min_samples_split=2, n_estimators=700; total time= 3.6min\n",
      "[CV] END bootstrap=True, max_depth=10, max_features=sqrt, min_samples_leaf=4, min_samples_split=2, n_estimators=700; total time=   9.4s\n",
      "[CV] END bootstrap=True, max_depth=10, max_features=sqrt, min_samples_leaf=4, min_samples_split=2, n_estimators=700; total time=   9.6s\n",
      "[CV] END bootstrap=True, max_depth=20, max_features=None, min_samples_leaf=1, min_samples_split=10, n_estimators=500; total time= 2.5min\n",
      "[CV] END bootstrap=True, max_depth=20, max_features=None, min_samples_leaf=1, min_samples_split=10, n_estimators=500; total time= 2.6min\n",
      "[CV] END bootstrap=False, max_depth=30, max_features=None, min_samples_leaf=8, min_samples_split=10, n_estimators=500; total time= 3.5min\n",
      "[CV] END bootstrap=False, max_depth=30, max_features=None, min_samples_leaf=8, min_samples_split=10, n_estimators=500; total time= 3.4min\n",
      "[CV] END bootstrap=True, max_depth=20, max_features=None, min_samples_leaf=2, min_samples_split=15, n_estimators=900; total time= 4.4min\n",
      "[CV] END bootstrap=True, max_depth=20, max_features=None, min_samples_leaf=8, min_samples_split=10, n_estimators=700; total time= 3.0min\n",
      "[CV] END bootstrap=True, max_depth=20, max_features=None, min_samples_leaf=8, min_samples_split=10, n_estimators=700; total time= 3.0min\n",
      "[CV] END bootstrap=False, max_depth=None, max_features=sqrt, min_samples_leaf=1, min_samples_split=10, n_estimators=700; total time=  32.1s\n",
      "[CV] END bootstrap=False, max_depth=None, max_features=sqrt, min_samples_leaf=1, min_samples_split=10, n_estimators=700; total time=  30.9s\n",
      "[CV] END bootstrap=False, max_depth=None, max_features=sqrt, min_samples_leaf=1, min_samples_split=10, n_estimators=700; total time=  31.9s\n",
      "[CV] END bootstrap=False, max_depth=None, max_features=log2, min_samples_leaf=4, min_samples_split=2, n_estimators=500; total time=   6.9s\n",
      "[CV] END bootstrap=False, max_depth=20, max_features=sqrt, min_samples_leaf=1, min_samples_split=15, n_estimators=700; total time=  25.6s\n",
      "[CV] END bootstrap=True, max_depth=20, max_features=None, min_samples_leaf=1, min_samples_split=15, n_estimators=700; total time= 3.5min\n",
      "[CV] END bootstrap=False, max_depth=20, max_features=None, min_samples_leaf=4, min_samples_split=2, n_estimators=900; total time= 6.8min\n",
      "[CV] END bootstrap=False, max_depth=10, max_features=None, min_samples_leaf=2, min_samples_split=15, n_estimators=500; total time= 2.6min\n",
      "[CV] END bootstrap=True, max_depth=20, max_features=None, min_samples_leaf=2, min_samples_split=15, n_estimators=900; total time= 4.4min\n",
      "[CV] END bootstrap=False, max_depth=20, max_features=None, min_samples_leaf=1, min_samples_split=15, n_estimators=900; total time= 7.1min\n",
      "[CV] END bootstrap=False, max_depth=10, max_features=sqrt, min_samples_leaf=2, min_samples_split=2, n_estimators=700; total time=  14.0s\n",
      "[CV] END bootstrap=False, max_depth=10, max_features=sqrt, min_samples_leaf=2, min_samples_split=2, n_estimators=700; total time=  13.4s\n",
      "[CV] END bootstrap=False, max_depth=None, max_features=log2, min_samples_leaf=4, min_samples_split=2, n_estimators=500; total time=   7.0s\n",
      "[CV] END bootstrap=False, max_depth=None, max_features=log2, min_samples_leaf=4, min_samples_split=2, n_estimators=500; total time=   6.9s\n",
      "[CV] END bootstrap=False, max_depth=20, max_features=sqrt, min_samples_leaf=1, min_samples_split=15, n_estimators=700; total time=  25.6s\n",
      "[CV] END bootstrap=True, max_depth=20, max_features=None, min_samples_leaf=1, min_samples_split=15, n_estimators=700; total time= 3.6min\n",
      "[CV] END bootstrap=False, max_depth=20, max_features=None, min_samples_leaf=4, min_samples_split=2, n_estimators=900; total time= 6.7min\n",
      "[CV] END bootstrap=False, max_depth=10, max_features=None, min_samples_leaf=2, min_samples_split=15, n_estimators=500; total time= 2.6min\n",
      "[CV] END bootstrap=True, max_depth=20, max_features=None, min_samples_leaf=2, min_samples_split=15, n_estimators=900; total time= 4.4min\n",
      "[CV] END bootstrap=False, max_depth=20, max_features=None, min_samples_leaf=1, min_samples_split=15, n_estimators=900; total time= 6.9min\n",
      "[CV] END bootstrap=False, max_depth=None, max_features=sqrt, min_samples_leaf=1, min_samples_split=10, n_estimators=700; total time=  31.9s\n",
      "[CV] END bootstrap=False, max_depth=10, max_features=sqrt, min_samples_leaf=2, min_samples_split=2, n_estimators=700; total time=  13.2s\n",
      "[CV] END bootstrap=False, max_depth=None, max_features=log2, min_samples_leaf=4, min_samples_split=2, n_estimators=500; total time=   6.8s\n",
      "[CV] END bootstrap=False, max_depth=20, max_features=sqrt, min_samples_leaf=1, min_samples_split=15, n_estimators=700; total time=  25.7s\n",
      "[CV] END bootstrap=True, max_depth=20, max_features=None, min_samples_leaf=1, min_samples_split=15, n_estimators=700; total time= 3.5min\n",
      "[CV] END bootstrap=False, max_depth=20, max_features=None, min_samples_leaf=4, min_samples_split=2, n_estimators=900; total time= 6.8min\n",
      "[CV] END bootstrap=False, max_depth=10, max_features=None, min_samples_leaf=2, min_samples_split=15, n_estimators=500; total time= 2.6min\n",
      "[CV] END bootstrap=True, max_depth=20, max_features=None, min_samples_leaf=2, min_samples_split=15, n_estimators=900; total time= 4.4min\n",
      "[CV] END bootstrap=True, max_depth=20, max_features=None, min_samples_leaf=8, min_samples_split=10, n_estimators=700; total time= 3.0min\n",
      "[CV] END bootstrap=True, max_depth=20, max_features=None, min_samples_leaf=2, min_samples_split=2, n_estimators=700; total time= 3.6min\n",
      "[CV] END bootstrap=False, max_depth=None, max_features=sqrt, min_samples_leaf=1, min_samples_split=10, n_estimators=700; total time=  31.0s\n",
      "[CV] END bootstrap=False, max_depth=10, max_features=sqrt, min_samples_leaf=2, min_samples_split=2, n_estimators=700; total time=  14.0s\n",
      "[CV] END bootstrap=False, max_depth=10, max_features=sqrt, min_samples_leaf=2, min_samples_split=2, n_estimators=700; total time=  13.3s\n",
      "[CV] END bootstrap=False, max_depth=None, max_features=log2, min_samples_leaf=4, min_samples_split=2, n_estimators=500; total time=   6.9s\n",
      "[CV] END bootstrap=False, max_depth=20, max_features=sqrt, min_samples_leaf=1, min_samples_split=15, n_estimators=700; total time=  25.7s\n",
      "[CV] END bootstrap=False, max_depth=20, max_features=sqrt, min_samples_leaf=1, min_samples_split=15, n_estimators=700; total time=  25.7s\n",
      "[CV] END bootstrap=True, max_depth=20, max_features=None, min_samples_leaf=1, min_samples_split=15, n_estimators=700; total time= 3.6min\n",
      "[CV] END bootstrap=False, max_depth=20, max_features=None, min_samples_leaf=4, min_samples_split=2, n_estimators=900; total time= 6.7min\n",
      "[CV] END bootstrap=False, max_depth=10, max_features=None, min_samples_leaf=2, min_samples_split=15, n_estimators=500; total time= 2.5min\n"
     ]
    }
   ],
   "source": [
    "rf_param_grid = {\n",
    "    'n_estimators': [500, 700, 900],              # Number of trees in the forest\n",
    "    'max_depth': [None, 10, 20, 30],              # Maximum depth of each tree\n",
    "    'min_samples_split': [2, 5, 10, 15],          # Minimum samples required to split a node\n",
    "    'min_samples_leaf': [1, 2, 4, 8],             # Minimum samples required at each leaf node\n",
    "    'max_features': ['sqrt', 'log2', None],       # Number of features to consider at each split\n",
    "    'bootstrap': [True, False]                    # Whether to use bootstrap samples\n",
    "}\n",
    "\n",
    "\n",
    "# Initialize the Random Forest Classifier\n",
    "rf = RandomForestRegressor(random_state=23)\n",
    "\n",
    "# Initialize GridSearchCV\n",
    "grid_search = RandomizedSearchCV(\n",
    "    estimator=rf,\n",
    "    n_iter=20,\n",
    "    param_distributions=rf_param_grid,\n",
    "    cv=5,  # 5-fold cross-validation\n",
    "    scoring=\"neg_root_mean_squared_error\",  # Use RMSE as scoring metric\n",
    "    n_jobs=-1,  # Use all available cores\n",
    "    verbose=2\n",
    ")\n",
    "\n",
    "# Fit the grid search to your data\n",
    "grid_search.fit(X_train, y_train)\n",
    "\n",
    "# Best model\n",
    "best_model = grid_search.best_estimator_\n",
    "best_params = grid_search.best_params_\n",
    "print(f\"Best RF parameters: {best_params}\")"
   ]
  },
  {
   "cell_type": "code",
   "execution_count": 33,
   "id": "eb7f26a8-6a60-49db-bccb-501febace5df",
   "metadata": {},
   "outputs": [
    {
     "name": "stdout",
     "output_type": "stream",
     "text": [
      "Final RMSE: 0.3756099074142889\n"
     ]
    }
   ],
   "source": [
    "# Predict on the validation set\n",
    "y_pred = best_model.predict(X_test)\n",
    "y_pred_rounded = np.clip(np.round(y_pred), 0, 5)\n",
    "\n",
    "# Calculate final RMSE\n",
    "final_rmse = np.sqrt(mean_squared_error(y_test, y_pred_rounded))\n",
    "print(f\"Final RMSE: {final_rmse}\")"
   ]
  },
  {
   "cell_type": "code",
   "execution_count": 42,
   "id": "a0983f32-ca58-49ad-b71b-2971a6409b2b",
   "metadata": {},
   "outputs": [
    {
     "name": "stdout",
     "output_type": "stream",
     "text": [
      "                                          Feature  Importance\n",
      "270                        room_type_Private room    0.244749\n",
      "23                                 minimum_nights    0.129754\n",
      "1                                       longitude    0.062244\n",
      "6                             host_listings_count    0.044434\n",
      "14                                   accommodates    0.042020\n",
      "268                     room_type_Entire home/apt    0.039385\n",
      "0                                        latitude    0.035906\n",
      "15                                      bathrooms    0.023918\n",
      "41                               shared_bathrooms    0.023563\n",
      "12   calculated_host_listings_count_private_rooms    0.023071\n",
      "16                                       bedrooms    0.020575\n",
      "7                       host_total_listings_count    0.020121\n",
      "603                   property_type_Room in hotel    0.014816\n",
      "20                                availability_90    0.014809\n",
      "38                                amenities_count    0.014049\n",
      "19                                availability_60    0.012659\n",
      "11    calculated_host_listings_count_entire_homes    0.011884\n",
      "2                                      host_since    0.011634\n",
      "18                                availability_30    0.011216\n",
      "10                 calculated_host_listings_count    0.011068\n"
     ]
    }
   ],
   "source": [
    "feature_importances = best_model.feature_importances_\n",
    "feature_names = X_train.columns\n",
    "\n",
    "# Create a DataFrame for better visualization\n",
    "importance_df = pd.DataFrame({\n",
    "    'Feature': feature_names,\n",
    "    'Importance': feature_importances\n",
    "})\n",
    "\n",
    "# Sort by importance (descending order)\n",
    "importance_df = importance_df.sort_values(by='Importance', ascending=False)\n",
    "\n",
    "# Print the DataFrame\n",
    "print(importance_df.head(20))"
   ]
  },
  {
   "cell_type": "code",
   "execution_count": 34,
   "id": "3ee4ebaf-fba5-4812-b5ae-48e0abbf811d",
   "metadata": {},
   "outputs": [],
   "source": [
    "# Store the IDs before dropping them\n",
    "ids = df_submission['id'].values\n",
    "\n",
    "# Drop the ID column for predictions\n",
    "X_submission = df_submission.drop('id', axis=1)\n",
    "\n",
    "# Generate predictions\n",
    "predictions = best_model.predict(X_submission)\n",
    "rounded_predictions = np.clip(np.round(predictions), 0, 5)\n",
    "\n",
    "# Create a DataFrame with IDs and predictions\n",
    "submission_df = pd.DataFrame({\n",
    "    'id': ids,\n",
    "    'price': rounded_predictions\n",
    "})"
   ]
  },
  {
   "cell_type": "code",
   "execution_count": 35,
   "id": "c000d4a0-c23d-4460-9249-fd0ae917df7a",
   "metadata": {
    "scrolled": true
   },
   "outputs": [],
   "source": [
    "# Save to CSV file\n",
    "submission_df.to_csv('submissions/rf_v2.csv', index=False)"
   ]
  },
  {
   "cell_type": "code",
   "execution_count": null,
   "id": "2e57484b-5f45-4082-86f2-ae8b1b27a839",
   "metadata": {},
   "outputs": [],
   "source": []
  },
  {
   "cell_type": "code",
   "execution_count": null,
   "id": "12fdf546-dd91-475d-9632-c764b8a9a37d",
   "metadata": {},
   "outputs": [],
   "source": [
    "# Train on all data before submitting"
   ]
  },
  {
   "cell_type": "code",
   "execution_count": null,
   "id": "82c544f7-ad90-46f3-937f-da30703abd48",
   "metadata": {},
   "outputs": [],
   "source": [
    "rf_param_grid = {\n",
    "    'n_estimators': [500, 700, 900],              # Number of trees in the forest\n",
    "    'max_depth': [None, 10, 20, 30],              # Maximum depth of each tree\n",
    "    'min_samples_split': [2, 5, 10, 15],          # Minimum samples required to split a node\n",
    "    'min_samples_leaf': [1, 2, 4, 8],             # Minimum samples required at each leaf node\n",
    "    'max_features': ['sqrt', 'log2', None],       # Number of features to consider at each split\n",
    "    'bootstrap': [True, False]                    # Whether to use bootstrap samples\n",
    "}\n",
    "\n",
    "\n",
    "# Initialize the Random Forest Classifier\n",
    "rf = RandomForestRegressor(random_state=23)\n",
    "\n",
    "# Initialize GridSearchCV\n",
    "grid_search = RandomizedSearchCV(\n",
    "    estimator=rf,\n",
    "    n_iter=20,\n",
    "    param_distributions=rf_param_grid,\n",
    "    cv=5,  # 5-fold cross-validation\n",
    "    scoring=rmse_scorer,  # Use RMSE as scoring metric\n",
    "    n_jobs=-1,  # Use all available cores\n",
    "    verbose=2\n",
    ")\n",
    "\n",
    "# Fit the grid search to your data\n",
    "grid_search.fit(X, y)\n",
    "\n",
    "# Best model\n",
    "best_model = grid_search.best_estimator_\n",
    "best_params = grid_search.best_params_\n",
    "print(f\"Best RF parameters: {best_params}\")"
   ]
  },
  {
   "cell_type": "code",
   "execution_count": 36,
   "id": "456de5bb-fef3-4e40-b7e4-dc257ec5a63a",
   "metadata": {},
   "outputs": [],
   "source": [
    "timed_model = RandomForestRegressor(random_state=23, **best_params)"
   ]
  },
  {
   "cell_type": "code",
   "execution_count": 39,
   "id": "6a86e3d4-1629-4f02-9de3-b5d612544b9f",
   "metadata": {},
   "outputs": [
    {
     "name": "stdout",
     "output_type": "stream",
     "text": [
      "197.7847821712494\n"
     ]
    }
   ],
   "source": [
    "t1 = time.time()\n",
    "timed_model.fit(X, y)\n",
    "t2 = time.time()\n",
    "print(f\"{t2- t1}\")"
   ]
  },
  {
   "cell_type": "code",
   "execution_count": 40,
   "id": "9bcea4a8-6f8c-4625-80c2-f76823a64d8a",
   "metadata": {},
   "outputs": [
    {
     "name": "stdout",
     "output_type": "stream",
     "text": [
      "{'n_estimators': 700, 'min_samples_split': 2, 'min_samples_leaf': 2, 'max_features': None, 'max_depth': 20, 'bootstrap': True}\n"
     ]
    }
   ],
   "source": [
    "print(best_params)"
   ]
  },
  {
   "cell_type": "code",
   "execution_count": null,
   "id": "2feb05ef-d0bb-4279-819a-8674af9ed575",
   "metadata": {},
   "outputs": [],
   "source": []
  }
 ],
 "metadata": {
  "kernelspec": {
   "display_name": "Python 3 (ipykernel)",
   "language": "python",
   "name": "python3"
  },
  "language_info": {
   "codemirror_mode": {
    "name": "ipython",
    "version": 3
   },
   "file_extension": ".py",
   "mimetype": "text/x-python",
   "name": "python",
   "nbconvert_exporter": "python",
   "pygments_lexer": "ipython3",
   "version": "3.10.14"
  }
 },
 "nbformat": 4,
 "nbformat_minor": 5
}
