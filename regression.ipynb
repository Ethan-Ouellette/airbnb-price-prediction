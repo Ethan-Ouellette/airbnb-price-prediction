{
 "cells": [
  {
   "cell_type": "code",
   "execution_count": 6,
   "id": "cf49cd6b-fbaa-4058-aca2-5ab8cef3b6bb",
   "metadata": {},
   "outputs": [],
   "source": [
    "# Import Libraries\n",
    "import numpy as np\n",
    "import pandas as pd\n",
    "from sklearn.model_selection import train_test_split, GridSearchCV\n",
    "from sklearn.preprocessing import StandardScaler\n",
    "from sklearn.linear_model import LinearRegression, Ridge, Lasso\n",
    "from sklearn.metrics import mean_squared_error, make_scorer, root_mean_squared_error\n",
    "from sklearn.pipeline import Pipeline\n"
   ]
  },
  {
   "cell_type": "code",
   "execution_count": 2,
   "id": "79d25d78-fe45-4e99-a8f4-fa68f9ab826b",
   "metadata": {},
   "outputs": [],
   "source": [
    "df = pd.read_csv(\"datas/df_1123_train.csv\")"
   ]
  },
  {
   "cell_type": "code",
   "execution_count": 7,
   "id": "fa32b74e-ff24-4ab8-82d6-329fa4aabfd5",
   "metadata": {},
   "outputs": [],
   "source": [
    "# Custom RMSE scoring with rounding\n",
    "def rounded_rmse(y_true, y_pred):\n",
    "    # Round predictions to nearest integer\n",
    "    y_pred_rounded = np.round(y_pred)\n",
    "    return np.sqrt(mean_squared_error(y_true, y_pred_rounded))\n",
    "\n",
    "# Custom scorer for GridSearchCV\n",
    "rmse_scorer = make_scorer(rounded_rmse, greater_is_better=False)"
   ]
  },
  {
   "cell_type": "code",
   "execution_count": 4,
   "id": "6a492938-e82a-4a5c-9e1c-a9c4949347bc",
   "metadata": {},
   "outputs": [],
   "source": [
    "# Define features and target\n",
    "X = df.drop('price', axis=1)\n",
    "y = df['price']"
   ]
  },
  {
   "cell_type": "code",
   "execution_count": 5,
   "id": "590df7f1-4790-4aac-93ba-78c2fedb0b27",
   "metadata": {},
   "outputs": [],
   "source": [
    "# Split into training and testing sets with stratification\n",
    "X_train, X_test, y_train, y_test = train_test_split(\n",
    "    X, y, test_size=0.2, random_state=42, stratify=y\n",
    ")"
   ]
  },
  {
   "cell_type": "code",
   "execution_count": 8,
   "id": "a61b55cd-452b-4044-ba6d-bee08907c41a",
   "metadata": {},
   "outputs": [
    {
     "name": "stdout",
     "output_type": "stream",
     "text": [
      "Fitting 5 folds for each of 5 candidates, totalling 25 fits\n",
      "Best Ridge parameters: {'ridge__alpha': 1000}\n"
     ]
    }
   ],
   "source": [
    "# Define a pipeline with scaling and Ridge Regression\n",
    "ridge_pipeline = Pipeline([\n",
    "    ('scaler', StandardScaler()),\n",
    "    ('ridge', Ridge())\n",
    "])\n",
    "\n",
    "# Define the hyperparameter grid for Ridge Regression\n",
    "ridge_param_grid = {\n",
    "    'ridge__alpha': [0.1, 1, 10, 100, 1000]\n",
    "}\n",
    "\n",
    "# Initialize GridSearchCV\n",
    "ridge_grid = GridSearchCV(\n",
    "    ridge_pipeline,\n",
    "    ridge_param_grid,\n",
    "    cv=5,\n",
    "    scoring=rmse_scorer,\n",
    "    n_jobs=-1,\n",
    "    verbose=2\n",
    ")\n",
    "\n",
    "# Fit the Ridge Regression model\n",
    "ridge_grid.fit(X_train, y_train)\n",
    "\n",
    "# Best Ridge model\n",
    "best_ridge = ridge_grid.best_estimator_\n",
    "print(f\"Best Ridge parameters: {ridge_grid.best_params_}\")\n"
   ]
  },
  {
   "cell_type": "code",
   "execution_count": 9,
   "id": "897065f7-cf9b-4cf6-9a84-c9e61824fed7",
   "metadata": {},
   "outputs": [
    {
     "name": "stdout",
     "output_type": "stream",
     "text": [
      "Final RMSE (Ridge Regression): 0.9681\n"
     ]
    }
   ],
   "source": [
    "# Predict with the best Ridge model\n",
    "y_pred_ridge = best_ridge.predict(X_test)\n",
    "\n",
    "# Round predictions to nearest integer and clip to [0, 5]\n",
    "y_pred_ridge_rounded = np.round(y_pred_ridge).astype(int)\n",
    "y_pred_ridge_clipped = np.clip(y_pred_ridge_rounded, 0, 5)\n",
    "\n",
    "# Calculate RMSE\n",
    "rmse_ridge = np.sqrt(mean_squared_error(y_test, y_pred_ridge_clipped))\n",
    "print(f\"Final RMSE (Ridge Regression): {rmse_ridge:.4f}\")"
   ]
  },
  {
   "cell_type": "code",
   "execution_count": 10,
   "id": "0d4fcaa7-731d-45ab-97bc-ca37e2a2ff0f",
   "metadata": {
    "scrolled": true
   },
   "outputs": [
    {
     "name": "stdout",
     "output_type": "stream",
     "text": [
      "Fitting 5 folds for each of 5 candidates, totalling 25 fits\n",
      "[CV] END .....................................ridge__alpha=1; total time=   1.5s\n",
      "[CV] END ...................................ridge__alpha=100; total time=   1.2s\n",
      "[CV] END ..................................ridge__alpha=1000; total time=   1.0s\n",
      "[CV] END ..................................lasso__alpha=0.01; total time=   2.9s\n",
      "[CV] END ..................................lasso__alpha=0.01; total time=   2.4s\n",
      "[CV] END ...................................lasso__alpha=0.1; total time=   0.7s\n",
      "[CV] END .....................................lasso__alpha=1; total time=   0.7s\n",
      "[CV] END ....................................lasso__alpha=10; total time=   0.6s\n",
      "[CV] END ...................................ridge__alpha=0.1; total time=   1.7s\n",
      "[CV] END ....................................ridge__alpha=10; total time=   1.2s\n",
      "[CV] END ...................................ridge__alpha=100; total time=   1.1s\n",
      "[CV] END ..................................lasso__alpha=0.01; total time=   2.9s\n",
      "[CV] END ...................................lasso__alpha=0.1; total time=   1.1s\n",
      "[CV] END ...................................lasso__alpha=0.1; total time=   1.0s\n",
      "[CV] END ...................................lasso__alpha=0.1; total time=   0.8s\n",
      "[CV] END .....................................lasso__alpha=1; total time=   0.6s\n",
      "[CV] END .....................................lasso__alpha=1; total time=   0.6s\n",
      "[CV] END ....................................lasso__alpha=10; total time=   0.6s\n",
      "[CV] END ...................................ridge__alpha=0.1; total time=   2.0s\n",
      "[CV] END .....................................ridge__alpha=1; total time=   1.4s\n",
      "[CV] END ...................................ridge__alpha=100; total time=   1.2s\n",
      "[CV] END .................................lasso__alpha=0.001; total time=   7.8s\n",
      "[CV] END ...................................ridge__alpha=0.1; total time=   1.7s\n",
      "[CV] END ....................................ridge__alpha=10; total time=   1.5s\n",
      "[CV] END ..................................ridge__alpha=1000; total time=   0.9s\n",
      "[CV] END .................................lasso__alpha=0.001; total time=   7.2s\n",
      "[CV] END ....................................lasso__alpha=10; total time=   0.6s\n",
      "[CV] END ...................................ridge__alpha=0.1; total time=   1.4s\n",
      "[CV] END .....................................ridge__alpha=1; total time=   1.3s\n",
      "[CV] END ...................................ridge__alpha=100; total time=   1.1s\n",
      "[CV] END ..................................ridge__alpha=1000; total time=   0.5s\n",
      "[CV] END ..................................lasso__alpha=0.01; total time=   2.5s\n",
      "[CV] END ..................................lasso__alpha=0.01; total time=   1.9s\n",
      "[CV] END ...................................lasso__alpha=0.1; total time=   0.8s\n",
      "[CV] END .....................................lasso__alpha=1; total time=   0.7s\n",
      "[CV] END .....................................lasso__alpha=1; total time=   0.6s\n",
      "[CV] END ....................................lasso__alpha=10; total time=   0.6s\n",
      "[CV] END ....................................lasso__alpha=10; total time=   0.5s\n",
      "[CV] END .....................................ridge__alpha=1; total time=   1.6s\n",
      "[CV] END ....................................ridge__alpha=10; total time=   1.1s\n",
      "[CV] END ...................................ridge__alpha=100; total time=   1.2s\n",
      "[CV] END .................................lasso__alpha=0.001; total time=   9.1s\n",
      "[CV] END ...................................ridge__alpha=0.1; total time=   1.7s\n",
      "[CV] END ....................................ridge__alpha=10; total time=   1.5s\n",
      "[CV] END ..................................ridge__alpha=1000; total time=   1.0s\n",
      "[CV] END .................................lasso__alpha=0.001; total time=  10.0s\n",
      "[CV] END .....................................ridge__alpha=1; total time=   1.5s\n",
      "[CV] END ....................................ridge__alpha=10; total time=   1.5s\n",
      "[CV] END ..................................ridge__alpha=1000; total time=   1.1s\n",
      "[CV] END .................................lasso__alpha=0.001; total time=  12.2s\n",
      "Best Lasso parameters: {'lasso__alpha': 0.01}\n"
     ]
    }
   ],
   "source": [
    "# Define a pipeline with scaling and Lasso Regression\n",
    "lasso_pipeline = Pipeline([\n",
    "    ('scaler', StandardScaler()),\n",
    "    ('lasso', Lasso(max_iter=10000))\n",
    "])\n",
    "\n",
    "# Define the hyperparameter grid for Lasso Regression\n",
    "lasso_param_grid = {\n",
    "    'lasso__alpha': [0.001, 0.01, 0.1, 1, 10]\n",
    "}\n",
    "\n",
    "# Initialize GridSearchCV\n",
    "lasso_grid = GridSearchCV(\n",
    "    lasso_pipeline,\n",
    "    lasso_param_grid,\n",
    "    cv=5,\n",
    "    scoring='neg_mean_squared_error',\n",
    "    n_jobs=-1,\n",
    "    verbose=2\n",
    ")\n",
    "\n",
    "# Fit the Lasso Regression model\n",
    "lasso_grid.fit(X_train, y_train)\n",
    "\n",
    "# Best Lasso model\n",
    "best_lasso = lasso_grid.best_estimator_\n",
    "print(f\"Best Lasso parameters: {lasso_grid.best_params_}\")\n"
   ]
  },
  {
   "cell_type": "code",
   "execution_count": 12,
   "id": "7b39bd2c-d0dd-4211-8d72-addba7c4224c",
   "metadata": {},
   "outputs": [
    {
     "name": "stdout",
     "output_type": "stream",
     "text": [
      "Final RMSE (Lasso Regression): 0.9755\n"
     ]
    }
   ],
   "source": [
    "# Predict with the best Lasso model\n",
    "y_pred_lasso = best_lasso.predict(X_test)\n",
    "\n",
    "# Round predictions to nearest integer and clip to [0, 5]\n",
    "y_pred_lasso_rounded = np.round(y_pred_lasso).astype(int)\n",
    "y_pred_lasso_clipped = np.clip(y_pred_lasso_rounded, 0, 5)\n",
    "\n",
    "# Calculate RMSE\n",
    "rmse_lasso = np.sqrt(mean_squared_error(y_test, y_pred_lasso_clipped))\n",
    "print(f\"Final RMSE (Lasso Regression): {rmse_lasso:.4f}\")\n"
   ]
  }
 ],
 "metadata": {
  "kernelspec": {
   "display_name": "Python 3 (ipykernel)",
   "language": "python",
   "name": "python3"
  },
  "language_info": {
   "codemirror_mode": {
    "name": "ipython",
    "version": 3
   },
   "file_extension": ".py",
   "mimetype": "text/x-python",
   "name": "python",
   "nbconvert_exporter": "python",
   "pygments_lexer": "ipython3",
   "version": "3.10.14"
  }
 },
 "nbformat": 4,
 "nbformat_minor": 5
}
