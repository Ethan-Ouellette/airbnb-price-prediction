{
 "cells": [
  {
   "cell_type": "code",
   "execution_count": 1,
   "id": "fa48210b-f35a-49ae-a98c-3447315fc032",
   "metadata": {},
   "outputs": [],
   "source": [
    "import pandas as pd\n",
    "import numpy as np\n",
    "import matplotlib.pyplot as plt\n",
    "from scipy.optimize import minimize"
   ]
  },
  {
   "cell_type": "code",
   "execution_count": 2,
   "id": "31b1f4b7-e064-4ea0-8096-6906574b554e",
   "metadata": {},
   "outputs": [],
   "source": [
    "from sklearn.model_selection import train_test_split, cross_val_score, GridSearchCV, KFold, RandomizedSearchCV\n",
    "from sklearn.metrics import f1_score, accuracy_score, roc_auc_score, make_scorer, mean_squared_error, root_mean_squared_error"
   ]
  },
  {
   "cell_type": "code",
   "execution_count": 6,
   "id": "c44cf77c-ca82-4110-9a26-268a6c02c91f",
   "metadata": {},
   "outputs": [],
   "source": [
    "from ordinalgbt.lgb import LGBMOrdinal"
   ]
  },
  {
   "cell_type": "code",
   "execution_count": 3,
   "id": "b1a46fa4-2ada-4978-8c7c-59c9ef594da5",
   "metadata": {},
   "outputs": [],
   "source": [
    "# Custom RMSE scoring with rounding\n",
    "def rounded_rmse(y_true, y_pred):\n",
    "    # Round predictions to nearest integer\n",
    "    y_pred_rounded = np.round(y_pred)\n",
    "    return np.sqrt(mean_squared_error(y_true, y_pred_rounded))\n",
    "\n",
    "# Custom scorer for GridSearchCV\n",
    "rmse_scorer = make_scorer(rounded_rmse, greater_is_better=False)"
   ]
  },
  {
   "cell_type": "code",
   "execution_count": 12,
   "id": "21576e4f-388b-46f6-8bf0-207c888c7d6f",
   "metadata": {},
   "outputs": [],
   "source": [
    "df = pd.read_csv(\"datas/df_1124v4_train.csv\")\n",
    "df_submission = pd.read_csv(\"datas/df_1124v4_test.csv\")\n",
    "# df = pd.read_csv(\"datas/df_1122.csv\")\n",
    "# df_pca = pd.read_csv(\"datas/df_1122_pca.csv\")"
   ]
  },
  {
   "cell_type": "code",
   "execution_count": 13,
   "id": "084b9da1-b967-4d16-b233-2e23dca25aec",
   "metadata": {},
   "outputs": [],
   "source": [
    "X, y = df.drop(columns=[\"price\"]), df[\"price\"]\n",
    "X_train, X_test, y_train, y_test = train_test_split(\n",
    "    X, y, test_size=0.2, random_state=23\n",
    ")"
   ]
  },
  {
   "cell_type": "code",
   "execution_count": 24,
   "id": "1fa38a2f-9b75-40bf-be8e-a5eb8b778a7e",
   "metadata": {},
   "outputs": [],
   "source": [
    "y = y.astype('int64')\n",
    "y_train = y_train.astype('int64')"
   ]
  },
  {
   "cell_type": "code",
   "execution_count": 28,
   "id": "941e44ac-769b-4ab3-a01f-d3a9890a2c15",
   "metadata": {
    "scrolled": true
   },
   "outputs": [
    {
     "name": "stdout",
     "output_type": "stream",
     "text": [
      "Fitting 5 folds for each of 100 candidates, totalling 500 fits\n",
      "Best XGB parameters: {'reg_alpha': 0.03, 'num_leaves': 1023, 'n_estimators': 300, 'max_depth': 9, 'learning_rate': 0.08}\n"
     ]
    }
   ],
   "source": [
    "model = LGBMOrdinal()\n",
    "param_grid = {\n",
    "    'n_estimators': [100, 200, 300, 400, 500, 600, 700, 800, 900, 1000],\n",
    "    'num_leaves': [255, 511, 1023, 2047, None],\n",
    "    'max_depth': [None, 3, 4, 5, 7, 8, 9, 10],\n",
    "    'learning_rate': [.08, 0.05, 0.03, .01],\n",
    "    'reg_alpha': [3, 2.5, 2, 1, .05, .03, .01]\n",
    "}\n",
    "\n",
    "# Train the model with GridSearchCV\n",
    "grid_search = RandomizedSearchCV(\n",
    "    model,\n",
    "    param_grid,\n",
    "    n_iter=100,\n",
    "    cv=5,\n",
    "    n_jobs=-1,\n",
    "    verbose=2,\n",
    "    error_score='raise'\n",
    ")\n",
    "grid_search.fit(X_train, y_train)\n",
    "\n",
    "# Use the best model\n",
    "best_model = grid_search.best_estimator_\n",
    "best_params = grid_search.best_params_\n",
    "print(f\"Best XGB parameters: {best_params}\")"
   ]
  },
  {
   "cell_type": "code",
   "execution_count": 29,
   "id": "aa8772de-4602-408a-b072-9a8b3d6594f8",
   "metadata": {},
   "outputs": [
    {
     "name": "stdout",
     "output_type": "stream",
     "text": [
      "Final RMSE: 0.9603608663573153\n"
     ]
    }
   ],
   "source": [
    "# Predict on the validation set\n",
    "y_pred = best_model.predict(X_test)\n",
    "y_pred_rounded = np.clip(np.round(y_pred), 0, 5)\n",
    "\n",
    "# Calculate final RMSE\n",
    "final_rmse = np.sqrt(mean_squared_error(y_test, y_pred_rounded))\n",
    "print(f\"Final RMSE: {final_rmse}\")"
   ]
  },
  {
   "cell_type": "code",
   "execution_count": null,
   "id": "71b9ec29-ea17-4a36-aa46-396c1c2374b5",
   "metadata": {},
   "outputs": [],
   "source": [
    "# Predict on the validation set\n",
    "y_pred = model1.predict(X_test)\n",
    "y_pred_rounded = np.clip(np.round(y_pred), 0, 5)\n",
    "\n",
    "# Calculate final RMSE\n",
    "final_rmse = np.sqrt(mean_squared_error(y_test, y_pred_rounded))\n",
    "print(f\"Final RMSE: {final_rmse}\")"
   ]
  }
 ],
 "metadata": {
  "kernelspec": {
   "display_name": "Python 3 (ipykernel)",
   "language": "python",
   "name": "python3"
  },
  "language_info": {
   "codemirror_mode": {
    "name": "ipython",
    "version": 3
   },
   "file_extension": ".py",
   "mimetype": "text/x-python",
   "name": "python",
   "nbconvert_exporter": "python",
   "pygments_lexer": "ipython3",
   "version": "3.10.14"
  }
 },
 "nbformat": 4,
 "nbformat_minor": 5
}
