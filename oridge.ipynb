{
 "cells": [
  {
   "cell_type": "code",
   "execution_count": 1,
   "id": "a9956a36-9a37-4743-8090-ac113a0f254c",
   "metadata": {},
   "outputs": [],
   "source": [
    "import pandas as pd\n",
    "import numpy as np\n",
    "import matplotlib.pyplot as plt"
   ]
  },
  {
   "cell_type": "code",
   "execution_count": 5,
   "id": "2406a71a-fdc7-4513-b0f8-fef501467596",
   "metadata": {},
   "outputs": [],
   "source": [
    "import mord as m\n",
    "from sklearn.metrics import mean_squared_error\n",
    "from sklearn.model_selection import train_test_split, GridSearchCV"
   ]
  },
  {
   "cell_type": "code",
   "execution_count": 3,
   "id": "892e8703-db86-49ea-93f8-3f1f1afeeac4",
   "metadata": {},
   "outputs": [],
   "source": [
    "df = pd.read_csv(\"datas/df_1122.csv\")"
   ]
  },
  {
   "cell_type": "code",
   "execution_count": 6,
   "id": "032e6e2d-9ce9-4214-b0df-64d5d0250d9f",
   "metadata": {},
   "outputs": [],
   "source": [
    "X, y = df.drop(columns=[\"price\"]), df[\"price\"]\n",
    "X_train, X_test, y_train, y_test = train_test_split(\n",
    "    X, y, test_size=0.2, random_state=23\n",
    ")"
   ]
  },
  {
   "cell_type": "code",
   "execution_count": 7,
   "id": "0459bcc1-3104-46e9-b098-71940b183ec6",
   "metadata": {},
   "outputs": [
    {
     "name": "stdout",
     "output_type": "stream",
     "text": [
      "Fitting 5 folds for each of 3 candidates, totalling 15 fits\n"
     ]
    },
    {
     "name": "stderr",
     "output_type": "stream",
     "text": [
      "/Users/ethan/miniconda3/envs/cs671/lib/python3.10/site-packages/sklearn/linear_model/_ridge.py:216: LinAlgWarning: Ill-conditioned matrix (rcond=1.38904e-39): result may not be accurate.\n",
      "  return linalg.solve(A, Xy, assume_a=\"pos\", overwrite_a=True).T\n",
      "/Users/ethan/miniconda3/envs/cs671/lib/python3.10/site-packages/sklearn/linear_model/_ridge.py:216: LinAlgWarning: Ill-conditioned matrix (rcond=1.38646e-39): result may not be accurate.\n",
      "  return linalg.solve(A, Xy, assume_a=\"pos\", overwrite_a=True).T\n",
      "/Users/ethan/miniconda3/envs/cs671/lib/python3.10/site-packages/sklearn/base.py:486: UserWarning: X has feature names, but OrdinalRidge was fitted without feature names\n",
      "  warnings.warn(\n",
      "/Users/ethan/miniconda3/envs/cs671/lib/python3.10/site-packages/sklearn/base.py:486: UserWarning: X has feature names, but OrdinalRidge was fitted without feature names\n",
      "  warnings.warn(\n",
      "/Users/ethan/miniconda3/envs/cs671/lib/python3.10/site-packages/sklearn/linear_model/_ridge.py:216: LinAlgWarning: Ill-conditioned matrix (rcond=1.37951e-39): result may not be accurate.\n",
      "  return linalg.solve(A, Xy, assume_a=\"pos\", overwrite_a=True).T\n",
      "/Users/ethan/miniconda3/envs/cs671/lib/python3.10/site-packages/sklearn/base.py:486: UserWarning: X has feature names, but OrdinalRidge was fitted without feature names\n",
      "  warnings.warn(\n",
      "/Users/ethan/miniconda3/envs/cs671/lib/python3.10/site-packages/sklearn/linear_model/_ridge.py:216: LinAlgWarning: Ill-conditioned matrix (rcond=6.90301e-39): result may not be accurate.\n",
      "  return linalg.solve(A, Xy, assume_a=\"pos\", overwrite_a=True).T\n",
      "/Users/ethan/miniconda3/envs/cs671/lib/python3.10/site-packages/sklearn/base.py:486: UserWarning: X has feature names, but OrdinalRidge was fitted without feature names\n",
      "  warnings.warn(\n",
      "/Users/ethan/miniconda3/envs/cs671/lib/python3.10/site-packages/sklearn/linear_model/_ridge.py:216: LinAlgWarning: Ill-conditioned matrix (rcond=1.38985e-39): result may not be accurate.\n",
      "  return linalg.solve(A, Xy, assume_a=\"pos\", overwrite_a=True).T\n",
      "/Users/ethan/miniconda3/envs/cs671/lib/python3.10/site-packages/sklearn/linear_model/_ridge.py:216: LinAlgWarning: Ill-conditioned matrix (rcond=1.38595e-39): result may not be accurate.\n",
      "  return linalg.solve(A, Xy, assume_a=\"pos\", overwrite_a=True).T\n",
      "/Users/ethan/miniconda3/envs/cs671/lib/python3.10/site-packages/sklearn/base.py:486: UserWarning: X has feature names, but OrdinalRidge was fitted without feature names\n",
      "  warnings.warn(\n",
      "/Users/ethan/miniconda3/envs/cs671/lib/python3.10/site-packages/sklearn/base.py:486: UserWarning: X has feature names, but OrdinalRidge was fitted without feature names\n",
      "  warnings.warn(\n",
      "/Users/ethan/miniconda3/envs/cs671/lib/python3.10/site-packages/sklearn/linear_model/_ridge.py:216: LinAlgWarning: Ill-conditioned matrix (rcond=6.90708e-39): result may not be accurate.\n",
      "  return linalg.solve(A, Xy, assume_a=\"pos\", overwrite_a=True).T\n",
      "/Users/ethan/miniconda3/envs/cs671/lib/python3.10/site-packages/sklearn/base.py:486: UserWarning: X has feature names, but OrdinalRidge was fitted without feature names\n",
      "  warnings.warn(\n",
      "/Users/ethan/miniconda3/envs/cs671/lib/python3.10/site-packages/sklearn/linear_model/_ridge.py:216: LinAlgWarning: Ill-conditioned matrix (rcond=6.89372e-39): result may not be accurate.\n",
      "  return linalg.solve(A, Xy, assume_a=\"pos\", overwrite_a=True).T\n",
      "/Users/ethan/miniconda3/envs/cs671/lib/python3.10/site-packages/sklearn/base.py:486: UserWarning: X has feature names, but OrdinalRidge was fitted without feature names\n",
      "  warnings.warn(\n",
      "/Users/ethan/miniconda3/envs/cs671/lib/python3.10/site-packages/sklearn/linear_model/_ridge.py:216: LinAlgWarning: Ill-conditioned matrix (rcond=6.86494e-39): result may not be accurate.\n",
      "  return linalg.solve(A, Xy, assume_a=\"pos\", overwrite_a=True).T\n",
      "/Users/ethan/miniconda3/envs/cs671/lib/python3.10/site-packages/sklearn/base.py:486: UserWarning: X has feature names, but OrdinalRidge was fitted without feature names\n",
      "  warnings.warn(\n",
      "/Users/ethan/miniconda3/envs/cs671/lib/python3.10/site-packages/sklearn/linear_model/_ridge.py:216: LinAlgWarning: Ill-conditioned matrix (rcond=2.91702e-38): result may not be accurate.\n",
      "  return linalg.solve(A, Xy, assume_a=\"pos\", overwrite_a=True).T\n",
      "/Users/ethan/miniconda3/envs/cs671/lib/python3.10/site-packages/sklearn/base.py:486: UserWarning: X has feature names, but OrdinalRidge was fitted without feature names\n",
      "  warnings.warn(\n",
      "/Users/ethan/miniconda3/envs/cs671/lib/python3.10/site-packages/sklearn/linear_model/_ridge.py:216: LinAlgWarning: Ill-conditioned matrix (rcond=2.88894e-38): result may not be accurate.\n",
      "  return linalg.solve(A, Xy, assume_a=\"pos\", overwrite_a=True).T\n",
      "/Users/ethan/miniconda3/envs/cs671/lib/python3.10/site-packages/sklearn/base.py:486: UserWarning: X has feature names, but OrdinalRidge was fitted without feature names\n",
      "  warnings.warn(\n",
      "/Users/ethan/miniconda3/envs/cs671/lib/python3.10/site-packages/sklearn/linear_model/_ridge.py:216: LinAlgWarning: Ill-conditioned matrix (rcond=2.91887e-38): result may not be accurate.\n",
      "  return linalg.solve(A, Xy, assume_a=\"pos\", overwrite_a=True).T\n",
      "/Users/ethan/miniconda3/envs/cs671/lib/python3.10/site-packages/sklearn/base.py:486: UserWarning: X has feature names, but OrdinalRidge was fitted without feature names\n",
      "  warnings.warn(\n",
      "/Users/ethan/miniconda3/envs/cs671/lib/python3.10/site-packages/sklearn/linear_model/_ridge.py:216: LinAlgWarning: Ill-conditioned matrix (rcond=6.84936e-39): result may not be accurate.\n",
      "  return linalg.solve(A, Xy, assume_a=\"pos\", overwrite_a=True).T\n",
      "/Users/ethan/miniconda3/envs/cs671/lib/python3.10/site-packages/sklearn/base.py:486: UserWarning: X has feature names, but OrdinalRidge was fitted without feature names\n",
      "  warnings.warn(\n",
      "/Users/ethan/miniconda3/envs/cs671/lib/python3.10/site-packages/sklearn/linear_model/_ridge.py:216: LinAlgWarning: Ill-conditioned matrix (rcond=2.88124e-38): result may not be accurate.\n",
      "  return linalg.solve(A, Xy, assume_a=\"pos\", overwrite_a=True).T\n",
      "/Users/ethan/miniconda3/envs/cs671/lib/python3.10/site-packages/sklearn/base.py:486: UserWarning: X has feature names, but OrdinalRidge was fitted without feature names\n",
      "  warnings.warn(\n",
      "/Users/ethan/miniconda3/envs/cs671/lib/python3.10/site-packages/sklearn/linear_model/_ridge.py:216: LinAlgWarning: Ill-conditioned matrix (rcond=2.91968e-38): result may not be accurate.\n",
      "  return linalg.solve(A, Xy, assume_a=\"pos\", overwrite_a=True).T\n",
      "/Users/ethan/miniconda3/envs/cs671/lib/python3.10/site-packages/sklearn/base.py:486: UserWarning: X has feature names, but OrdinalRidge was fitted without feature names\n",
      "  warnings.warn(\n"
     ]
    },
    {
     "name": "stdout",
     "output_type": "stream",
     "text": [
      "Best Ordinal Ridge parameters: {'alpha': 5}\n",
      "Final RMSE: 0.9714064922824057\n"
     ]
    },
    {
     "name": "stderr",
     "output_type": "stream",
     "text": [
      "/Users/ethan/miniconda3/envs/cs671/lib/python3.10/site-packages/sklearn/linear_model/_ridge.py:216: LinAlgWarning: Ill-conditioned matrix (rcond=5.49688e-39): result may not be accurate.\n",
      "  return linalg.solve(A, Xy, assume_a=\"pos\", overwrite_a=True).T\n",
      "/Users/ethan/miniconda3/envs/cs671/lib/python3.10/site-packages/sklearn/base.py:486: UserWarning: X has feature names, but OrdinalRidge was fitted without feature names\n",
      "  warnings.warn(\n"
     ]
    },
    {
     "name": "stdout",
     "output_type": "stream",
     "text": [
      "[CV] END ............................................alpha=5; total time=   1.1s\n",
      "[CV] END ............................................alpha=1; total time=   1.0s\n",
      "[CV] END ............................................alpha=5; total time=   0.6s\n",
      "[CV] END ............................................alpha=5; total time=   1.0s\n",
      "[CV] END ...........................................alpha=20; total time=   0.6s\n",
      "[CV] END ............................................alpha=1; total time=   1.0s\n",
      "[CV] END ...........................................alpha=20; total time=   0.6s\n",
      "[CV] END ............................................alpha=1; total time=   1.0s\n",
      "[CV] END ............................................alpha=5; total time=   0.7s\n",
      "[CV] END ............................................alpha=1; total time=   1.0s\n",
      "[CV] END ...........................................alpha=20; total time=   0.6s\n",
      "[CV] END ............................................alpha=1; total time=   1.0s\n",
      "[CV] END ...........................................alpha=20; total time=   0.6s\n",
      "[CV] END ............................................alpha=5; total time=   1.0s\n",
      "[CV] END ...........................................alpha=20; total time=   0.7s\n"
     ]
    }
   ],
   "source": [
    "# Initialize the ordinal regression model\n",
    "ordinal_model = m.OrdinalRidge()\n",
    "\n",
    "# Define hyperparameters if needed\n",
    "param_grid = {'alpha': [1, 5, 20]}\n",
    "\n",
    "# Setup GridSearchCV\n",
    "grid_search = GridSearchCV(\n",
    "    ordinal_model,\n",
    "    param_grid,\n",
    "    cv=5,\n",
    "    scoring='neg_root_mean_squared_error',  # Custom scorer might be needed\n",
    "    n_jobs=-1,\n",
    "    verbose=2,\n",
    ")\n",
    "\n",
    "# Train the model\n",
    "grid_search.fit(X_train, y_train)\n",
    "\n",
    "# Best model\n",
    "best_model = grid_search.best_estimator_\n",
    "print(f\"Best Ordinal Ridge parameters: {grid_search.best_params_}\")\n",
    "\n",
    "# Predict and calculate RMSE\n",
    "y_pred = best_model.predict(X_test)\n",
    "final_rmse = np.sqrt(mean_squared_error(y_test, y_pred))\n",
    "print(f\"Final RMSE: {final_rmse}\")\n"
   ]
  }
 ],
 "metadata": {
  "kernelspec": {
   "display_name": "Python 3 (ipykernel)",
   "language": "python",
   "name": "python3"
  },
  "language_info": {
   "codemirror_mode": {
    "name": "ipython",
    "version": 3
   },
   "file_extension": ".py",
   "mimetype": "text/x-python",
   "name": "python",
   "nbconvert_exporter": "python",
   "pygments_lexer": "ipython3",
   "version": "3.10.14"
  }
 },
 "nbformat": 4,
 "nbformat_minor": 5
}
